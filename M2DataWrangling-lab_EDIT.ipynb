{
  "metadata": {
    "kernelspec": {
      "name": "python",
      "display_name": "Python (Pyodide)",
      "language": "python"
    },
    "language_info": {
      "codemirror_mode": {
        "name": "python",
        "version": 3
      },
      "file_extension": ".py",
      "mimetype": "text/x-python",
      "name": "python",
      "nbconvert_exporter": "python",
      "pygments_lexer": "ipython3",
      "version": "3.8"
    },
    "prev_pub_hash": "955deb52b02eec3e16e61df584232f2cc045079d697f475cb65582dbfebe300c"
  },
  "nbformat_minor": 4,
  "nbformat": 4,
  "cells": [
    {
      "cell_type": "markdown",
      "source": "<p style=\"text-align:center\">\n    <a href=\"https://skills.network/?utm_medium=Exinfluencer&utm_source=Exinfluencer&utm_content=000026UJ&utm_term=10006555&utm_id=NA-SkillsNetwork-Channel-SkillsNetworkCoursesIBMDA0321ENSkillsNetwork928-2022-01-01\" target=\"_blank\">\n    <img src=\"https://cf-courses-data.s3.us.cloud-object-storage.appdomain.cloud/assets/logos/SN_web_lightmode.png\" width=\"200\" alt=\"Skills Network Logo\"  />\n    </a>\n</p>\n",
      "metadata": {}
    },
    {
      "cell_type": "markdown",
      "source": "# **Data Wrangling Lab**\n",
      "metadata": {}
    },
    {
      "cell_type": "markdown",
      "source": "Estimated time needed: **45 to 60** minutes\n",
      "metadata": {}
    },
    {
      "cell_type": "markdown",
      "source": "In this assignment you will be performing data wrangling.\n",
      "metadata": {}
    },
    {
      "cell_type": "markdown",
      "source": "## Objectives\n",
      "metadata": {}
    },
    {
      "cell_type": "markdown",
      "source": "In this lab you will perform the following:\n",
      "metadata": {}
    },
    {
      "cell_type": "markdown",
      "source": "-   Identify duplicate values in the dataset.\n\n-   Remove duplicate values from the dataset.\n\n-   Identify missing values in the dataset.\n\n-   Impute the missing values in the dataset.\n\n-   Normalize data in the dataset.\n",
      "metadata": {}
    },
    {
      "cell_type": "markdown",
      "source": "<hr>\n",
      "metadata": {}
    },
    {
      "cell_type": "markdown",
      "source": "## Hands on Lab\n",
      "metadata": {}
    },
    {
      "cell_type": "markdown",
      "source": "Import pandas module.\n",
      "metadata": {}
    },
    {
      "cell_type": "code",
      "source": "import pandas as pd",
      "metadata": {
        "trusted": true
      },
      "outputs": [],
      "execution_count": 41
    },
    {
      "cell_type": "markdown",
      "source": "Load the dataset into a dataframe.\n",
      "metadata": {}
    },
    {
      "cell_type": "markdown",
      "source": "<h2>Read Data</h2>\n<p>\nWe utilize the <code>pandas.read_csv()</code> function for reading CSV files. However, in this version of the lab, which operates on JupyterLite, the dataset needs to be downloaded to the interface using the provided code below.\n</p>\n",
      "metadata": {}
    },
    {
      "cell_type": "markdown",
      "source": "The functions below will download the dataset into your browser:\n",
      "metadata": {}
    },
    {
      "cell_type": "code",
      "source": "from pyodide.http import pyfetch\n\nasync def download(url, filename):\n    response = await pyfetch(url)\n    if response.status == 200:\n        with open(filename, \"wb\") as f:\n            f.write(await response.bytes())",
      "metadata": {
        "trusted": true
      },
      "outputs": [],
      "execution_count": 42
    },
    {
      "cell_type": "code",
      "source": "file_path = \"https://cf-courses-data.s3.us.cloud-object-storage.appdomain.cloud/IBM-DA0321EN-SkillsNetwork/LargeData/m1_survey_data.csv\"",
      "metadata": {
        "trusted": true
      },
      "outputs": [],
      "execution_count": 43
    },
    {
      "cell_type": "markdown",
      "source": "To obtain the dataset, utilize the download() function as defined above:  \n",
      "metadata": {}
    },
    {
      "cell_type": "code",
      "source": "await download(file_path, \"m1_survey_data.csv\")\nfile_name=\"m1_survey_data.csv\"",
      "metadata": {
        "trusted": true
      },
      "outputs": [],
      "execution_count": 44
    },
    {
      "cell_type": "markdown",
      "source": "Utilize the Pandas method read_csv() to load the data into a dataframe.\n",
      "metadata": {}
    },
    {
      "cell_type": "code",
      "source": "df = pd.read_csv(file_name)",
      "metadata": {
        "trusted": true
      },
      "outputs": [],
      "execution_count": 45
    },
    {
      "cell_type": "markdown",
      "source": "> Note: This version of the lab is working on JupyterLite, which requires the dataset to be downloaded to the interface.While working on the downloaded version of this notebook on their local machines(Jupyter Anaconda), the learners can simply **skip the steps above,** and simply use the URL directly in the `pandas.read_csv()` function. You can uncomment and run the statements in the cell below.\n",
      "metadata": {}
    },
    {
      "cell_type": "code",
      "source": "#df = pd.read_csv(\"https://cf-courses-data.s3.us.cloud-object-storage.appdomain.cloud/IBM-DA0321EN-SkillsNetwork/LargeData/m1_survey_data.csv\")",
      "metadata": {
        "trusted": true
      },
      "outputs": [],
      "execution_count": 6
    },
    {
      "cell_type": "markdown",
      "source": "## Finding duplicates\n",
      "metadata": {}
    },
    {
      "cell_type": "markdown",
      "source": "In this section you will identify duplicate values in the dataset.\n",
      "metadata": {}
    },
    {
      "cell_type": "markdown",
      "source": " Find how many duplicate rows exist in the dataframe.\n",
      "metadata": {}
    },
    {
      "cell_type": "code",
      "source": "# your code goes here\nduplicate_rows = df[df.duplicated()]\nlen(duplicate_rows)",
      "metadata": {
        "trusted": true
      },
      "outputs": [
        {
          "execution_count": 46,
          "output_type": "execute_result",
          "data": {
            "text/plain": "154"
          },
          "metadata": {}
        }
      ],
      "execution_count": 46
    },
    {
      "cell_type": "markdown",
      "source": "How many duplicate values are there in the column Respondent? \n\n",
      "metadata": {}
    },
    {
      "cell_type": "code",
      "source": "duplicate_Respondent = df[df['Respondent'].duplicated()]\nlen(duplicate_Respondent)",
      "metadata": {
        "trusted": true
      },
      "outputs": [
        {
          "execution_count": 47,
          "output_type": "execute_result",
          "data": {
            "text/plain": "154"
          },
          "metadata": {}
        }
      ],
      "execution_count": 47
    },
    {
      "cell_type": "markdown",
      "source": "## Removing duplicates\n",
      "metadata": {}
    },
    {
      "cell_type": "markdown",
      "source": "Remove the duplicate rows from the dataframe.\n",
      "metadata": {}
    },
    {
      "cell_type": "code",
      "source": "# your code goes here\ndf.drop_duplicates(inplace=True)",
      "metadata": {
        "trusted": true
      },
      "outputs": [],
      "execution_count": 48
    },
    {
      "cell_type": "markdown",
      "source": "Verify if duplicates were actually dropped.\n",
      "metadata": {}
    },
    {
      "cell_type": "code",
      "source": "# your code goes here\nduplicate_rows = df[df.duplicated()]\nlen(duplicate_rows)",
      "metadata": {
        "trusted": true
      },
      "outputs": [
        {
          "execution_count": 49,
          "output_type": "execute_result",
          "data": {
            "text/plain": "0"
          },
          "metadata": {}
        }
      ],
      "execution_count": 49
    },
    {
      "cell_type": "markdown",
      "source": "After removing the duplicate rows, how many rows are there in the dataset?",
      "metadata": {}
    },
    {
      "cell_type": "code",
      "source": "df.shape",
      "metadata": {
        "trusted": true
      },
      "outputs": [
        {
          "execution_count": 50,
          "output_type": "execute_result",
          "data": {
            "text/plain": "(11398, 85)"
          },
          "metadata": {}
        }
      ],
      "execution_count": 50
    },
    {
      "cell_type": "markdown",
      "source": "After removing the duplicate rows, how many unique rows are there in the column Respondent? ",
      "metadata": {}
    },
    {
      "cell_type": "code",
      "source": "len(df['Respondent'].unique())",
      "metadata": {
        "trusted": true
      },
      "outputs": [
        {
          "execution_count": 51,
          "output_type": "execute_result",
          "data": {
            "text/plain": "11398"
          },
          "metadata": {}
        }
      ],
      "execution_count": 51
    },
    {
      "cell_type": "markdown",
      "source": "## Finding Missing values\n",
      "metadata": {}
    },
    {
      "cell_type": "markdown",
      "source": "Find the missing values for all columns.\n",
      "metadata": {}
    },
    {
      "cell_type": "code",
      "source": "# your code goes here\nimport numpy as np\nmissing_value = df.isnull()\nprint(missing_value)",
      "metadata": {
        "trusted": true
      },
      "outputs": [
        {
          "name": "stdout",
          "text": "       Respondent  MainBranch  Hobbyist  OpenSourcer  OpenSource  Employment  \\\n0           False       False     False        False       False       False   \n1           False       False     False        False       False       False   \n2           False       False     False        False       False       False   \n3           False       False     False        False       False       False   \n4           False       False     False        False       False       False   \n...           ...         ...       ...          ...         ...         ...   \n11547       False       False     False        False       False       False   \n11548       False       False     False        False       False       False   \n11549       False       False     False        False       False       False   \n11550       False       False     False        False       False       False   \n11551       False       False     False        False       False       False   \n\n       Country  Student  EdLevel  UndergradMajor  ...  WelcomeChange  \\\n0        False    False    False           False  ...          False   \n1        False    False    False           False  ...          False   \n2        False    False    False           False  ...          False   \n3        False    False    False            True  ...          False   \n4        False    False    False           False  ...          False   \n...        ...      ...      ...             ...  ...            ...   \n11547    False    False    False           False  ...          False   \n11548    False    False    False           False  ...          False   \n11549    False    False    False           False  ...          False   \n11550    False    False    False            True  ...          False   \n11551    False    False    False           False  ...          False   \n\n       SONewContent    Age  Gender  Trans  Sexuality  Ethnicity  Dependents  \\\n0             False  False   False  False      False      False       False   \n1              True  False   False  False      False      False       False   \n2             False  False   False  False      False      False       False   \n3             False  False   False  False      False      False       False   \n4             False  False   False  False      False      False       False   \n...             ...    ...     ...    ...        ...        ...         ...   \n11547         False  False   False  False      False      False       False   \n11548         False  False   False  False      False      False       False   \n11549         False  False   False  False      False      False       False   \n11550          True  False   False  False      False      False       False   \n11551         False  False   False  False      False      False       False   \n\n       SurveyLength  SurveyEase  \n0             False       False  \n1             False       False  \n2             False       False  \n3             False       False  \n4             False       False  \n...             ...         ...  \n11547         False       False  \n11548         False       False  \n11549         False       False  \n11550         False       False  \n11551         False       False  \n\n[11398 rows x 85 columns]\n",
          "output_type": "stream"
        }
      ],
      "execution_count": 52
    },
    {
      "cell_type": "markdown",
      "source": "Find out how many rows are missing in the column 'WorkLoc'\n",
      "metadata": {}
    },
    {
      "cell_type": "code",
      "source": "# your code goes here\nprint('WorkLoc')\nmissing_WorkLoc = missing_value['WorkLoc'].value_counts()\nmissing_WorkLoc",
      "metadata": {
        "trusted": true
      },
      "outputs": [
        {
          "name": "stdout",
          "text": "WorkLoc\n",
          "output_type": "stream"
        },
        {
          "execution_count": 53,
          "output_type": "execute_result",
          "data": {
            "text/plain": "False    11366\nTrue        32\nName: WorkLoc, dtype: int64"
          },
          "metadata": {}
        }
      ],
      "execution_count": 53
    },
    {
      "cell_type": "markdown",
      "source": "After removing the duplicate rows, how many blank rows are there under the column EdLevel?",
      "metadata": {}
    },
    {
      "cell_type": "code",
      "source": "print('EdLevel')\nmissing_EdLevel = missing_value['EdLevel'].value_counts()\nmissing_EdLevel",
      "metadata": {
        "trusted": true
      },
      "outputs": [
        {
          "name": "stdout",
          "text": "EdLevel\n",
          "output_type": "stream"
        },
        {
          "execution_count": 54,
          "output_type": "execute_result",
          "data": {
            "text/plain": "False    11286\nTrue       112\nName: EdLevel, dtype: int64"
          },
          "metadata": {}
        }
      ],
      "execution_count": 54
    },
    {
      "cell_type": "markdown",
      "source": "After removing the duplicate rows, how many rows are missing under the column Country?",
      "metadata": {}
    },
    {
      "cell_type": "code",
      "source": "print('Country')\nmissing_Country = missing_value['Country'].value_counts()\nmissing_Country",
      "metadata": {
        "trusted": true
      },
      "outputs": [
        {
          "name": "stdout",
          "text": "Country\n",
          "output_type": "stream"
        },
        {
          "execution_count": 55,
          "output_type": "execute_result",
          "data": {
            "text/plain": "False    11398\nName: Country, dtype: int64"
          },
          "metadata": {}
        }
      ],
      "execution_count": 55
    },
    {
      "cell_type": "markdown",
      "source": "To identify missing row in other columns",
      "metadata": {}
    },
    {
      "cell_type": "code",
      "source": "for col in missing_value.columns.values.tolist():\n    print(col)\n    print(missing_value[col].value_counts())\n    print('')",
      "metadata": {
        "trusted": true
      },
      "outputs": [
        {
          "name": "stdout",
          "text": "Respondent\nFalse    11398\nName: Respondent, dtype: int64\n\nMainBranch\nFalse    11398\nName: MainBranch, dtype: int64\n\nHobbyist\nFalse    11398\nName: Hobbyist, dtype: int64\n\nOpenSourcer\nFalse    11398\nName: OpenSourcer, dtype: int64\n\nOpenSource\nFalse    11317\nTrue        81\nName: OpenSource, dtype: int64\n\nEmployment\nFalse    11398\nName: Employment, dtype: int64\n\nCountry\nFalse    11398\nName: Country, dtype: int64\n\nStudent\nFalse    11347\nTrue        51\nName: Student, dtype: int64\n\nEdLevel\nFalse    11286\nTrue       112\nName: EdLevel, dtype: int64\n\nUndergradMajor\nFalse    10661\nTrue       737\nName: UndergradMajor, dtype: int64\n\nEduOther\nFalse    11234\nTrue       164\nName: EduOther, dtype: int64\n\nOrgSize\nFalse    11302\nTrue        96\nName: OrgSize, dtype: int64\n\nDevType\nFalse    11333\nTrue        65\nName: DevType, dtype: int64\n\nYearsCode\nFalse    11389\nTrue         9\nName: YearsCode, dtype: int64\n\nAge1stCode\nFalse    11385\nTrue        13\nName: Age1stCode, dtype: int64\n\nYearsCodePro\nFalse    11382\nTrue        16\nName: YearsCodePro, dtype: int64\n\nCareerSat\nFalse    11398\nName: CareerSat, dtype: int64\n\nJobSat\nFalse    11397\nTrue         1\nName: JobSat, dtype: int64\n\nMgrIdiot\nFalse    10905\nTrue       493\nName: MgrIdiot, dtype: int64\n\nMgrMoney\nFalse    10901\nTrue       497\nName: MgrMoney, dtype: int64\n\nMgrWant\nFalse    10905\nTrue       493\nName: MgrWant, dtype: int64\n\nJobSeek\nFalse    11398\nName: JobSeek, dtype: int64\n\nLastHireDate\nFalse    11398\nName: LastHireDate, dtype: int64\n\nLastInt\nFalse    10985\nTrue       413\nName: LastInt, dtype: int64\n\nFizzBuzz\nFalse    11361\nTrue        37\nName: FizzBuzz, dtype: int64\n\nJobFactors\nFalse    11395\nTrue         3\nName: JobFactors, dtype: int64\n\nResumeUpdate\nFalse    11359\nTrue        39\nName: ResumeUpdate, dtype: int64\n\nCurrencySymbol\nFalse    11398\nName: CurrencySymbol, dtype: int64\n\nCurrencyDesc\nFalse    11398\nName: CurrencyDesc, dtype: int64\n\nCompTotal\nFalse    10589\nTrue       809\nName: CompTotal, dtype: int64\n\nCompFreq\nFalse    11192\nTrue       206\nName: CompFreq, dtype: int64\n\nConvertedComp\nFalse    10582\nTrue       816\nName: ConvertedComp, dtype: int64\n\nWorkWeekHrs\nFalse    11276\nTrue       122\nName: WorkWeekHrs, dtype: int64\n\nWorkPlan\nFalse    11277\nTrue       121\nName: WorkPlan, dtype: int64\n\nWorkChallenge\nFalse    11234\nTrue       164\nName: WorkChallenge, dtype: int64\n\nWorkRemote\nFalse    11390\nTrue         8\nName: WorkRemote, dtype: int64\n\nWorkLoc\nFalse    11366\nTrue        32\nName: WorkLoc, dtype: int64\n\nImpSyn\nFalse    11393\nTrue         5\nName: ImpSyn, dtype: int64\n\nCodeRev\nFalse    11397\nTrue         1\nName: CodeRev, dtype: int64\n\nCodeRevHrs\nFalse    8972\nTrue     2426\nName: CodeRevHrs, dtype: int64\n\nUnitTests\nFalse    11369\nTrue        29\nName: UnitTests, dtype: int64\n\nPurchaseHow\nFalse    11202\nTrue       196\nName: PurchaseHow, dtype: int64\n\nPurchaseWhat\nFalse    11360\nTrue        38\nName: PurchaseWhat, dtype: int64\n\nLanguageWorkedWith\nFalse    11387\nTrue        11\nName: LanguageWorkedWith, dtype: int64\n\nLanguageDesireNextYear\nFalse    11264\nTrue       134\nName: LanguageDesireNextYear, dtype: int64\n\nDatabaseWorkedWith\nFalse    10945\nTrue       453\nName: DatabaseWorkedWith, dtype: int64\n\nDatabaseDesireNextYear\nFalse    10356\nTrue      1042\nName: DatabaseDesireNextYear, dtype: int64\n\nPlatformWorkedWith\nFalse    10987\nTrue       411\nName: PlatformWorkedWith, dtype: int64\n\nPlatformDesireNextYear\nFalse    10854\nTrue       544\nName: PlatformDesireNextYear, dtype: int64\n\nWebFrameWorkedWith\nFalse    10005\nTrue      1393\nName: WebFrameWorkedWith, dtype: int64\n\nWebFrameDesireNextYear\nFalse    9781\nTrue     1617\nName: WebFrameDesireNextYear, dtype: int64\n\nMiscTechWorkedWith\nFalse    9216\nTrue     2182\nName: MiscTechWorkedWith, dtype: int64\n\nMiscTechDesireNextYear\nFalse    9943\nTrue     1455\nName: MiscTechDesireNextYear, dtype: int64\n\nDevEnviron\nFalse    11369\nTrue        29\nName: DevEnviron, dtype: int64\n\nOpSys\nFalse    11364\nTrue        34\nName: OpSys, dtype: int64\n\nContainers\nFalse    11316\nTrue        82\nName: Containers, dtype: int64\n\nBlockchainOrg\nFalse    9076\nTrue     2322\nName: BlockchainOrg, dtype: int64\n\nBlockchainIs\nFalse    8788\nTrue     2610\nName: BlockchainIs, dtype: int64\n\nBetterLife\nFalse    11300\nTrue        98\nName: BetterLife, dtype: int64\n\nITperson\nFalse    11363\nTrue        35\nName: ITperson, dtype: int64\n\nOffOn\nFalse    11360\nTrue        38\nName: OffOn, dtype: int64\n\nSocialMedia\nFalse    11105\nTrue       293\nName: SocialMedia, dtype: int64\n\nExtraversion\nFalse    11378\nTrue        20\nName: Extraversion, dtype: int64\n\nScreenName\nFalse    10891\nTrue       507\nName: ScreenName, dtype: int64\n\nSOVisit1st\nFalse    11073\nTrue       325\nName: SOVisit1st, dtype: int64\n\nSOVisitFreq\nFalse    11393\nTrue         5\nName: SOVisitFreq, dtype: int64\n\nSOVisitTo\nFalse    11397\nTrue         1\nName: SOVisitTo, dtype: int64\n\nSOFindAnswer\nFalse    11395\nTrue         3\nName: SOFindAnswer, dtype: int64\n\nSOTimeSaved\nFalse    11348\nTrue        50\nName: SOTimeSaved, dtype: int64\n\nSOHowMuchTime\nFalse    9481\nTrue     1917\nName: SOHowMuchTime, dtype: int64\n\nSOAccount\nFalse    11397\nTrue         1\nName: SOAccount, dtype: int64\n\nSOPartFreq\nFalse    10270\nTrue      1128\nName: SOPartFreq, dtype: int64\n\nSOJobs\nFalse    11392\nTrue         6\nName: SOJobs, dtype: int64\n\nEntTeams\nFalse    11393\nTrue         5\nName: EntTeams, dtype: int64\n\nSOComm\nFalse    11398\nName: SOComm, dtype: int64\n\nWelcomeChange\nFalse    11313\nTrue        85\nName: WelcomeChange, dtype: int64\n\nSONewContent\nFalse    9433\nTrue     1965\nName: SONewContent, dtype: int64\n\nAge\nFalse    11111\nTrue       287\nName: Age, dtype: int64\n\nGender\nFalse    11325\nTrue        73\nName: Gender, dtype: int64\n\nTrans\nFalse    11275\nTrue       123\nName: Trans, dtype: int64\n\nSexuality\nFalse    10856\nTrue       542\nName: Sexuality, dtype: int64\n\nEthnicity\nFalse    10723\nTrue       675\nName: Ethnicity, dtype: int64\n\nDependents\nFalse    11258\nTrue       140\nName: Dependents, dtype: int64\n\nSurveyLength\nFalse    11379\nTrue        19\nName: SurveyLength, dtype: int64\n\nSurveyEase\nFalse    11384\nTrue        14\nName: SurveyEase, dtype: int64\n\n",
          "output_type": "stream"
        }
      ],
      "execution_count": 56
    },
    {
      "cell_type": "markdown",
      "source": "## Imputing missing values\n",
      "metadata": {}
    },
    {
      "cell_type": "markdown",
      "source": "Find the  value counts for the column WorkLoc.\n",
      "metadata": {}
    },
    {
      "cell_type": "code",
      "source": "# your code goes here\ndf['WorkLoc'].value_counts()",
      "metadata": {
        "trusted": true
      },
      "outputs": [
        {
          "execution_count": 57,
          "output_type": "execute_result",
          "data": {
            "text/plain": "Office                                            6806\nHome                                              3589\nOther place, such as a coworking space or cafe     971\nName: WorkLoc, dtype: int64"
          },
          "metadata": {}
        }
      ],
      "execution_count": 57
    },
    {
      "cell_type": "markdown",
      "source": "Identify the value that is most frequent (majority) in the WorkLoc column.\n",
      "metadata": {}
    },
    {
      "cell_type": "code",
      "source": "#make a note of the majority value here, for future reference\n#Office                                            6806\n#Home                                              3589\n#Other place, such as a coworking space or cafe     971",
      "metadata": {},
      "outputs": [],
      "execution_count": null
    },
    {
      "cell_type": "markdown",
      "source": "Impute (replace) all the empty rows in the column WorkLoc with the value that you have identified as majority.\n",
      "metadata": {}
    },
    {
      "cell_type": "code",
      "source": "# your code goes here\ndf['WorkLoc'] = df['WorkLoc'].replace(np.nan, 'Office')",
      "metadata": {
        "trusted": true
      },
      "outputs": [],
      "execution_count": 58
    },
    {
      "cell_type": "markdown",
      "source": "After imputation there should ideally not be any empty rows in the WorkLoc column.\n",
      "metadata": {}
    },
    {
      "cell_type": "markdown",
      "source": "Verify if imputing was successful.\n",
      "metadata": {}
    },
    {
      "cell_type": "code",
      "source": "# your code goes here\nmissing_value = df.isnull()\nmissing_WorkLoc = missing_value['WorkLoc'].value_counts()\nprint(missing_WorkLoc, '\\n')\n\nprint(df['WorkLoc'].value_counts())",
      "metadata": {
        "trusted": true
      },
      "outputs": [
        {
          "name": "stdout",
          "text": "False    11398\nName: WorkLoc, dtype: int64 \n\nOffice                                            6838\nHome                                              3589\nOther place, such as a coworking space or cafe     971\nName: WorkLoc, dtype: int64\n",
          "output_type": "stream"
        }
      ],
      "execution_count": 59
    },
    {
      "cell_type": "markdown",
      "source": "What is the majority category under the column Employment?",
      "metadata": {}
    },
    {
      "cell_type": "code",
      "source": "df['Employment'].value_counts()",
      "metadata": {
        "trusted": true
      },
      "outputs": [
        {
          "execution_count": 60,
          "output_type": "execute_result",
          "data": {
            "text/plain": "Employed full-time    10968\nEmployed part-time      430\nName: Employment, dtype: int64"
          },
          "metadata": {}
        }
      ],
      "execution_count": 60
    },
    {
      "cell_type": "markdown",
      "source": "Under the column \" UndergradMajor\", which category has the minimum number of rows?",
      "metadata": {}
    },
    {
      "cell_type": "code",
      "source": "df['UndergradMajor'].value_counts()",
      "metadata": {
        "trusted": true
      },
      "outputs": [
        {
          "execution_count": 61,
          "output_type": "execute_result",
          "data": {
            "text/plain": "Computer science, computer engineering, or software engineering          6953\nInformation systems, information technology, or system administration     794\nAnother engineering discipline (ex. civil, electrical, mechanical)        759\nWeb development or web design                                             410\nA natural science (ex. biology, chemistry, physics)                       403\nMathematics or statistics                                                 372\nA business discipline (ex. accounting, finance, marketing)                244\nA social science (ex. anthropology, psychology, political science)        210\nA humanities discipline (ex. literature, history, philosophy)             207\nFine arts or performing arts (ex. graphic design, music, studio art)      161\nI never declared a major                                                  124\nA health science (ex. nursing, pharmacy, radiology)                        24\nName: UndergradMajor, dtype: int64"
          },
          "metadata": {}
        }
      ],
      "execution_count": 61
    },
    {
      "cell_type": "markdown",
      "source": "The column ‘ConvertedComp’ contains the annual compensation of the survey respondents. What is the best approach to impute the missing values in this column?",
      "metadata": {}
    },
    {
      "cell_type": "code",
      "source": "print('ConvertedComp')\nmissing_ConvertedComp = missing_value['ConvertedComp'].value_counts()\nprint(missing_ConvertedComp, '\\n')\n\nprint(df['ConvertedComp'].value_counts())\nprint(df['ConvertedComp'].describe())\n\nprint('\\nBecause the max or min number is not the majority of column value and the missing values are 7.7% of total respondent, it is safe to choose median to fill in the missing value in this column')\nprint('Here is the consideration:')\nprint('  1.Median is the \"middle\" value, making it less affected by extreme responses compared to the mean')\nprint('  2.If the data distribution is skewed, the median reflects the value that separates the \"middle half\" of the data, offering a more reliable central tendency measurement.')",
      "metadata": {
        "trusted": true
      },
      "outputs": [
        {
          "name": "stdout",
          "text": "ConvertedComp\nFalse    10582\nTrue       816\nName: ConvertedComp, dtype: int64 \n\n2000000.0    138\n1000000.0    105\n100000.0      99\n150000.0      92\n120000.0      86\n            ... \n79183.0        1\n20475.0        1\n288732.0       1\n22056.0        1\n19880.0        1\nName: ConvertedComp, Length: 3515, dtype: int64\ncount    1.058200e+04\nmean     1.315967e+05\nstd      2.947865e+05\nmin      0.000000e+00\n25%      2.686800e+04\n50%      5.774500e+04\n75%      1.000000e+05\nmax      2.000000e+06\nName: ConvertedComp, dtype: float64\n\nBecause the max or min number is not the majority of column value and the missing values are 7.7% of total respondent, it is safe to choose median to fill in the missing value in this column\nHere is the consideration:\n  1.Median is the \"middle\" value, making it less affected by extreme responses compared to the mean\n  2.If the data distribution is skewed, the median reflects the value that separates the \"middle half\" of the data, offering a more reliable central tendency measurement.\n",
          "output_type": "stream"
        }
      ],
      "execution_count": 62
    },
    {
      "cell_type": "markdown",
      "source": "## Normalizing data\n",
      "metadata": {}
    },
    {
      "cell_type": "markdown",
      "source": "There are two columns in the dataset that talk about compensation.\n\nOne is \"CompFreq\". This column shows how often a developer is paid (Yearly, Monthly, Weekly).\n\nThe other is \"CompTotal\". This column talks about how much the developer is paid per Year, Month, or Week depending upon his/her \"CompFreq\". \n\nThis makes it difficult to compare the total compensation of the developers.\n\nIn this section you will create a new column called 'NormalizedAnnualCompensation' which contains the 'Annual Compensation' irrespective of the 'CompFreq'.\n\nOnce this column is ready, it makes comparison of salaries easy.\n",
      "metadata": {}
    },
    {
      "cell_type": "markdown",
      "source": "<hr>\n",
      "metadata": {}
    },
    {
      "cell_type": "markdown",
      "source": "List out the various categories in the column 'CompFreq'\n",
      "metadata": {}
    },
    {
      "cell_type": "code",
      "source": "# your code goes here\ndf['CompFreq'].value_counts()",
      "metadata": {
        "trusted": true
      },
      "outputs": [
        {
          "execution_count": 63,
          "output_type": "execute_result",
          "data": {
            "text/plain": "Yearly     6073\nMonthly    4788\nWeekly      331\nName: CompFreq, dtype: int64"
          },
          "metadata": {}
        }
      ],
      "execution_count": 63
    },
    {
      "cell_type": "markdown",
      "source": "Create a new column named 'NormalizedAnnualCompensation'. Use the hint given below if needed.\n",
      "metadata": {}
    },
    {
      "cell_type": "markdown",
      "source": "Double click to see the **Hint**.\n\n<!--\n\nUse the below logic to arrive at the values for the column NormalizedAnnualCompensation.\n\nIf the CompFreq is Yearly then use the exising value in CompTotal\nIf the CompFreq is Monthly then multiply the value in CompTotal with 12 (months in an year)\nIf the CompFreq is Weekly then multiply the value in CompTotal with 52 (weeks in an year)\n\n-->\n",
      "metadata": {}
    },
    {
      "cell_type": "code",
      "source": "# your code goes here\nnormalized = []\n\nfor i in range(len(df)):\n    if df['CompFreq'].iloc[i] == 'Weekly':\n        normalized.append(df['CompTotal'].iloc[i]*52)\n    elif df['CompFreq'].iloc[i] == 'Monthly':\n        normalized.append(df['CompTotal'].iloc[i]*12)\n    else:\n        normalized.append(df['CompTotal'].iloc[i]*1)\n\n\ndf['NormalizedAnnualCompensation'] = normalized\ndf['NormalizedAnnualCompensation'].head()",
      "metadata": {
        "trusted": true
      },
      "outputs": [
        {
          "execution_count": 64,
          "output_type": "execute_result",
          "data": {
            "text/plain": "0     61000.0\n1    138000.0\n2     90000.0\n3    348000.0\n4     90000.0\nName: NormalizedAnnualCompensation, dtype: float64"
          },
          "metadata": {}
        }
      ],
      "execution_count": 64
    },
    {
      "cell_type": "markdown",
      "source": "What is the median NormalizedAnnualCompensation?",
      "metadata": {}
    },
    {
      "cell_type": "code",
      "source": "df['NormalizedAnnualCompensation'].describe()",
      "metadata": {
        "trusted": true
      },
      "outputs": [
        {
          "execution_count": 65,
          "output_type": "execute_result",
          "data": {
            "text/plain": "count    1.058900e+04\nmean     6.133295e+06\nstd      9.838157e+07\nmin      0.000000e+00\n25%      5.200000e+04\n50%      1.000000e+05\n75%      3.600000e+05\nmax      8.400000e+09\nName: NormalizedAnnualCompensation, dtype: float64"
          },
          "metadata": {}
        }
      ],
      "execution_count": 65
    },
    {
      "cell_type": "markdown",
      "source": "## Authors\n",
      "metadata": {}
    },
    {
      "cell_type": "markdown",
      "source": "Ramesh Sannareddy\n",
      "metadata": {}
    },
    {
      "cell_type": "markdown",
      "source": "### Other Contributors\n",
      "metadata": {}
    },
    {
      "cell_type": "markdown",
      "source": "Rav Ahuja\n",
      "metadata": {}
    },
    {
      "cell_type": "markdown",
      "source": "## Change Log\n",
      "metadata": {}
    },
    {
      "cell_type": "markdown",
      "source": "| Date (YYYY-MM-DD) | Version | Changed By        | Change Description                 |\n| ----------------- | ------- | ----------------- | ---------------------------------- |\n| 2020-10-17        | 0.1     | Ramesh Sannareddy | Created initial version of the lab |\n",
      "metadata": {}
    },
    {
      "cell_type": "markdown",
      "source": " Copyright © 2020 IBM Corporation. This notebook and its source code are released under the terms of the [MIT License](https://cognitiveclass.ai/mit-license?utm_medium=Exinfluencer&utm_source=Exinfluencer&utm_content=000026UJ&utm_term=10006555&utm_id=NA-SkillsNetwork-Channel-SkillsNetworkCoursesIBMDA0321ENSkillsNetwork928-2022-01-01&cm_mmc=Email_Newsletter-_-Developer_Ed%2BTech-_-WW_WW-_-SkillsNetwork-Courses-IBM-DA0321EN-SkillsNetwork-21426264&cm_mmca1=000026UJ&cm_mmca2=10006555&cm_mmca3=M12345678&cvosrc=email.Newsletter.M12345678&cvo_campaign=000026UJ).\n",
      "metadata": {}
    }
  ]
}